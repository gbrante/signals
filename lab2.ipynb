{
 "cells": [
  {
   "cell_type": "markdown",
   "metadata": {},
   "source": [
    "### UTFPR - UNIVERSIDADE TECNOLÓGICA FEDERAL DO PARANÁ\n",
    "### DAELT - DEPARTAMENTO ACADÊMICO DE ELETROTÉCNICA\n",
    "\n",
    "**Disciplina**: ET7GF - Sinais e Sistemas 2\n",
    "\n",
    "**Professor**: Glauber Brante\n",
    "\n",
    "---"
   ]
  },
  {
   "cell_type": "markdown",
   "metadata": {
    "slideshow": {
     "slide_type": "-"
    }
   },
   "source": [
    "## Atividade 2: Sinais e Sistemas Básicos\n",
    "\n",
    "### PARTE 1: Sinais Discretos no Tempo\n",
    "---"
   ]
  },
  {
   "cell_type": "markdown",
   "metadata": {},
   "source": [
    "Para essa atividade, vamos escrever funções em NumPy para criar alguns sinais básicos e usar essas funções para plotar esses sinais no tempo discreto. Por exemplo, vamos escrever uma função para criar um _impulso discreto no tempo_:\n",
    "\n",
    "\\begin{equation}\n",
    "\\large\n",
    "    \\delta[n] = \n",
    "    \\begin{cases}\n",
    "            0, \\qquad n \\neq 0 \\\\\n",
    "            1, \\qquad n = 0\n",
    "    \\end{cases}\n",
    "\\end{equation}\n",
    "\n",
    "O trecho de código a seguir cria a funçao <font color=blue>impulso</font>(n) e plota o impulso deslocado $\\delta[n-5]$ no intervalo de tempo $-10 \\leq n \\leq 10$:"
   ]
  },
  {
   "cell_type": "code",
   "execution_count": 2,
   "metadata": {},
   "outputs": [
    {
     "data": {
      "image/png": "[encoded data removed]",
      "text/plain": [
       "<Figure size 432x288 with 1 Axes>"
      ]
     },
     "metadata": {},
     "output_type": "display_data"
    }
   ],
   "source": [
    "from numpy import *\n",
    "from matplotlib.pyplot import *\n",
    "#%matplotlib qt\n",
    "\n",
    "def impulso(n):\n",
    "    d = 1*(n==0)\n",
    "    return d\n",
    "\n",
    "n = arange(-10,11)\n",
    "y = impulso(n-5)\n",
    "\n",
    "stem(n, y)\n",
    "#grid(True)\n",
    "xlabel('n', fontsize=18);\n",
    "ylabel('Amplitude', fontsize=18);\n",
    "title('Função Impulso Atrasada no Tempo');"
   ]
  },
  {
   "cell_type": "markdown",
   "metadata": {},
   "source": [
    "### 1.1) Função Impulso:\n",
    "Utilizando a função <font color=blue>impulso</font> recém criada, plote as seguintes sequências nos intervalos indicados:\n",
    "\n",
    "$\\large \\textbf{(a)} \\quad x[n] = 1.5\\, \\delta[n+3], \\qquad\\qquad\\qquad\\qquad\\qquad -5 \\leq n \\leq 5$\n",
    "\n",
    "\n",
    "$\\large \\textbf{(b)} \\quad x[n] = 2.5\\, \\delta[n+20] - 0.5\\,\\delta[n-10], \\qquad -30 \\leq n \\leq 30$\n",
    "\n",
    "---"
   ]
  },
  {
   "cell_type": "markdown",
   "metadata": {},
   "source": [
    "### 1.2) Degrau Unitário\n",
    "Escreva uma função para gerar o degrau unitário:\n",
    "\\begin{equation}\n",
    "\\large\n",
    "    u[n] = \n",
    "    \\begin{cases}\n",
    "            0, \\qquad n < 0 \\\\\n",
    "            1, \\qquad n \\geq 0\n",
    "    \\end{cases}\n",
    "\\end{equation}\n",
    "\n",
    "A chamada dessa funçao deve ser <font color=blue>degrau</font>(n), em que $\\large n$ é o intervalo (vetor de índices) sobre o qual essa função deve ser avaliada.\n",
    "\n",
    "Use essa função para plotar (usando o comando <font color=blue>stem</font>) as seguintes sequências:\n",
    "\n",
    "\n",
    "$\\large \\textbf{(a)} \\quad x[n] = 3.5\\, u[n-3], \\qquad\\qquad\\quad -10 \\leq n \\leq 10$\n",
    "\n",
    "\n",
    "$\\large \\textbf{(b)} \\quad x[n] = u[n+4] - u[n-4], \\qquad -20 \\leq n \\leq 20$\n",
    "\n",
    "---"
   ]
  },
  {
   "cell_type": "markdown",
   "metadata": {},
   "source": [
    "### 1.3) Função Retângulo\n",
    "Vamos agora escrever uma função para gerar um retângulo:\n",
    "\\begin{equation}\n",
    "\\large\n",
    "    \\mathrm{retangulo}_N[n] = \n",
    "    \\begin{cases}\n",
    "            1, \\qquad -N \\leq n \\leq N \\\\\n",
    "            0, \\qquad |n| > N\n",
    "    \\end{cases}\n",
    "\\end{equation}\n",
    "\n",
    "em que $\\large N$ define a largura do retângulo. A chamada dessa função deve ter a forma <font color=blue>retangulo</font>(n,N).\n",
    "\n",
    "Use essa função para plotar as seguintes sequências sobre os intervalos indicados:\n",
    "\n",
    "$\\large \\textbf{(a)} \\quad x[n] = 5\\,\\mathrm{retangulo}_4[n-3], \\qquad\\quad\\qquad\\qquad -10 \\leq n \\leq 10$\n",
    "\n",
    "$\\large \\textbf{(b)} \\quad x[n] = \\mathrm{retangulo}_{10}[n] - \\mathrm{retangulo}_5[n], \\qquad -20 \\leq n \\leq 20$\n",
    "\n",
    "---"
   ]
  },
  {
   "cell_type": "markdown",
   "metadata": {},
   "source": [
    "### 1.4) Senóide Discreta no Tempo:\n",
    "Plotar as seguintes sequências sobre os intervalos indicados:\n",
    "\n",
    "$\\large \\textbf{(a)} \\quad x[n] = \\sin\\left(\\frac{\\pi}{20}\\, n\\right), \\qquad\\qquad\\quad 0 \\leq n \\leq 60$\n",
    "\n",
    "$\\large \\textbf{(b)} \\quad x[n] = 5\\sin\\left(\\frac{\\pi}{10}\\, n + \\frac{\\pi}{4}\\right), \\qquad -10 \\leq n \\leq 30$\n",
    "\n",
    "$\\large \\textbf{(c)} \\quad x[n] = \\cos\\left(2\\pi\\frac{1}{5\\sqrt{2}}\\, n\\right), \\qquad\\quad 0 \\leq n \\leq 30$\n",
    "\n",
    "**Determine analiticamente se cada sequência é periódica ou não e, em caso afirmativo, determine seu período. Seus plots confirmam essas previsões?**\n",
    "\n",
    "---"
   ]
  },
  {
   "cell_type": "markdown",
   "metadata": {},
   "source": [
    "### 1.5) Exponencial Complexa Discreta no Tempo:\n",
    "$$\\large x[n] = 2 \\, e^{j \\, \\frac{\\pi}{5} \\, n}\\qquad\\qquad\\quad 0 \\leq n \\leq 20$$\n",
    "\n",
    "$\\large \\textbf{(a)} \\quad$ Usando os comandos <font color=blue>real</font> e <font color=blue>imag</font>, plote as partes real e imaginária desta função. Use <font color=blue>subplot</font> para obter ambos os plots na mesma figura.\n",
    "\n",
    "$\\large \\textbf{(b)} \\quad$ Usando os comandos <font color=blue>abs</font> e <font color=blue>angle</font>, plote a magnitude e a fase desta função. Use <font color=blue>subplot</font> para obter ambos os plots na mesma figura.\n",
    "\n",
    "$\\large \\textbf{(c)} \\quad$ Obtenha as expressões analíticas das partes real, imaginária, magnitude e fase. Compare essas expressões com suas curvas dos itens **(a)** e **(b)**.\n",
    "\n",
    "---"
   ]
  },
  {
   "cell_type": "markdown",
   "metadata": {},
   "source": [
    "### 1.6) Deslocamento no Tempo:\n",
    "Considere o seguinte sinal $x[n]$:"
   ]
  },
  {
   "cell_type": "code",
   "execution_count": 13,
   "metadata": {},
   "outputs": [
    {
     "name": "stdout",
     "output_type": "stream",
     "text": [
      "[1, 1, 1, 2, 2, 2, 3, 3, 3, 2, 2, 2, 1, 1, 1, -1, -1, -2, -2, -2]\n"
     ]
    },
    {
     "data": {
      "image/png": "[encoded data removed]",
      "text/plain": [
       "<Figure size 432x288 with 1 Axes>"
      ]
     },
     "metadata": {},
     "output_type": "display_data"
    }
   ],
   "source": [
    "n = arange(0,20)\n",
    "x = [1, 1, 1, 2, 2, 2, 3, 3, 3, 2, 2, 2, 1, 1, 1, -1, -1, -2, -2, -2];\n",
    "\n",
    "stem(n, x)\n",
    "grid(True)\n",
    "xlabel('n', fontsize=18);\n",
    "ylabel('x[n]', fontsize=18);\n",
    "xticks(arange(0,20));"
   ]
  },
  {
   "cell_type": "markdown",
   "metadata": {},
   "source": [
    "Trace os seguintes sinais:\n",
    "\n",
    "$\\large \\textbf{(a)} \\quad x[n] - x[n+1]$\n",
    "\n",
    "$\\large \\textbf{(b)} \\quad x[2n]$\n",
    "\n",
    "$\\large \\textbf{(c)} \\quad x[\\frac{n}{2}]$\n",
    "\n",
    "---"
   ]
  },
  {
   "cell_type": "markdown",
   "metadata": {},
   "source": [
    "### 1.7) Energia e Potência:\n",
    "Em um intervalo de tempo finito, $(t_1 \\leq t \\leq t_2)$ ou $(n_1 \\leq n \\leq n_2)$, a energia gasta pelo sinal $x(t)$ ou $x[n]$ é dada por\n",
    "\\begin{equation*}\n",
    "\\large\n",
    "\\begin{split}\n",
    "    E &= \\int_{t_1}^{t_2} |x(t)|^2 \\mathrm{d}t \\\\\n",
    "\tE &= \\sum_{n = n_1}^{n_2} |x[n]|^2\n",
    "\\end{split}\n",
    "\\end{equation*}\n",
    "\t\n",
    "A potência média do sinal neste mesmo intervalo de tempo é dada por\n",
    "\\begin{equation*}\n",
    "\\large\n",
    "\\begin{split}\n",
    "\tP &= \\frac{1}{t_2-t_1} \\int_{t_1}^{t_2} |x(t)|^2 \\mathrm{d}t = \\frac{E}{t_2-t_1} \\\\\n",
    "\tP &= \\frac{1}{n_2-n_1+1}\\sum_{n = n_1}^{n_2} |x[n]|^2 = \\frac{E}{n_2 - n_1 + 1}\n",
    "\\end{split}\n",
    "\\end{equation*}\n",
    "\t\n",
    "Se considerarmos energia e potência média em um intervalo infinito, podemos estender as definições para\n",
    "\\begin{equation*}\n",
    "\\large\n",
    "\\begin{split}\n",
    "\tE_\\infty &\\triangleq \\lim_{T\\rightarrow\\infty} \\int_{-T}^T |x(t)|^2 \\mathrm{d}t = \\int_{-\\infty}^\\infty |x(t)|^2 \\mathrm{d}t \\\\\n",
    "\tE_\\infty &\\triangleq \\lim_{N\\rightarrow\\infty} \\sum_{n = -N}^{N} |x[n]|^2 = \\sum_{n = -\\infty}^{\\infty} |x[n]|^2\n",
    "\\end{split}\n",
    "\\end{equation*}\n",
    "e\n",
    "\\begin{equation*}\n",
    "\\large\n",
    "\\begin{split}\n",
    "\tP_\\infty &\\triangleq \\lim_{T\\rightarrow\\infty} \\frac{1}{2T} \\int_{-\\infty}^\\infty |x(t)|^2 \\mathrm{d}t \\\\\n",
    "\tP_\\infty &\\triangleq \\lim_{N\\rightarrow\\infty} \\frac{1}{2N+1}\\sum_{n = -\\infty}^{\\infty} |x[n]|^2\n",
    "\\end{split}\n",
    "\\end{equation*}\n",
    "\t\n",
    "Determine a energia e a potência média dos seguintes sinais relativos ao Exercício 1.6:\n",
    "\n",
    "$\\large \\textbf{(a)} \\quad x[n]$\n",
    "\n",
    "$\\large \\textbf{(b)} \\quad x[n] - x[n+1]$\n",
    "\n",
    "$\\large \\textbf{(c)} \\quad x[2n]$\n",
    "\n",
    "$\\large \\textbf{(d)} \\quad x[\\frac{n}{2}]$\n",
    "\n",
    "**Obs.:** Considere apenas o intervalo não-nulo para cálculo."
   ]
  },
  {
   "cell_type": "markdown",
   "metadata": {},
   "source": [
    "### PARTE 2: Sistemas Discretos no Tempo\n",
    "---"
   ]
  },
  {
   "cell_type": "markdown",
   "metadata": {},
   "source": [
    "Agora vamos escrever funções para criar alguns sistemas discretos no tempo. Essas funções deverão ser usadas para transformar sequências de entrada $x[n]$ em sequências de saída $y[n]$. Por exemplo, suponha que você tenha que escrever uma função para criar um *sistema de atraso ideal*:\n",
    "\n",
    "$$\\large y[n] = x[n - n_0]$$\n",
    "\n",
    "A definição dessa função precisa levar em conta três parâmetros de entrada: <font color=blue>$\\normalsize x$</font>, <font color=blue>$\\normalsize nx$</font> e <font color=blue>$\\normalsize n0$</font>, as quais representam a sequência de entrada, os índices sobre os quais ela é definida e o número de amostras pelo qual a sequência será atrasada (ou adiantada), respectivamente. Ainda, o ideal seria que a função retornasse dois parâmetros de saída: <font color=blue>$\\normalsize y$</font>, <font color=blue>$\\normalsize ny$</font>, ou seja, a sequência atrasada e o novo vetor de índices.\n",
    "\n",
    "Dessa forma, uma chamada para essa função poderia ser:\n",
    "\n",
    "<font color=green>def</font> <font color=blue>myDelay</font>(x, nx, n0):\n",
    "\n",
    "  ...\n",
    "  \n",
    "  <font color=green>return</font> y\n",
    "  \n",
    "  <font color=green>return</font> ny\n",
    "    \n",
    "---"
   ]
  },
  {
   "cell_type": "markdown",
   "metadata": {},
   "source": [
    "### 2.1) Função de Atraso\n",
    "Utilizando o seguinte seinal de entrada\n",
    "$$\\large x[n] = 5 \\text{retangulo}_{10}[n] \\, \\sin\\left(\\frac{\\pi}{12} n\\right), \\qquad -30 \\leq n \\leq 30,$$\n",
    "\n",
    "escrever a função myDelay para gerar uma saída atrasada em 5 amostras ($y[n] = x[n - 5]$):\n",
    "\n",
    "---"
   ]
  },
  {
   "cell_type": "markdown",
   "metadata": {},
   "source": [
    "### 2.1) Sistema de Média Móvel de Primeira-Ordem:\n",
    "Escreva uma função para criar o seguinte sistema:\n",
    "\n",
    "$$\\large y[n] = a_0 x[n] + a_1 x[n-1]$$\n",
    "\t\n",
    "\n",
    "Em seguida, plote a saída do sistema para a seguinte entrada:\n",
    "\n",
    "$$\\large x[n] = 5\\text{rect}_{20}[n] \\, \\sin\\left(\\frac{\\pi}{12} n\\right), \\qquad -30\\leq n \\leq 30,$$\n",
    "\n",
    "com os seguintes parâmetros:\n",
    "\n",
    "$\\large \\textbf{(a)} \\quad a_0 = 1 \\text{ e } a_1 = -1$\n",
    "\n",
    "$\\large \\textbf{(b)} \\quad a_0 = a_1 = \\frac{1}{2}$\n",
    "\n",
    "Interprete o significado dos resultados obtidos."
   ]
  }
 ],
 "metadata": {
  "kernelspec": {
   "display_name": "Python 3",
   "language": "python",
   "name": "python3"
  },
  "language_info": {
   "codemirror_mode": {
    "name": "ipython",
    "version": 3
   },
   "file_extension": ".py",
   "mimetype": "text/x-python",
   "name": "python",
   "nbconvert_exporter": "python",
   "pygments_lexer": "ipython3",
   "version": "3.6.5"
  }
 },
 "nbformat": 4,
 "nbformat_minor": 2
}

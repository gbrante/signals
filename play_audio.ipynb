{
 "cells": [
  {
   "cell_type": "markdown",
   "metadata": {},
   "source": [
    "Para tocar um audio no Python, podemos utilizar a biblioteca pyaudio\n",
    "\n",
    "Caso a biblioteca não esteja instalada, usar os seguintes comandos:\n",
    "\n",
    "python -m pip install pyaudio\n",
    "\n",
    "conda install pyaudio\n",
    "\n",
    "---"
   ]
  },
  {
   "cell_type": "markdown",
   "metadata": {},
   "source": [
    "# Exemplo de código utilizando pyaudio:"
   ]
  },
  {
   "cell_type": "code",
   "execution_count": 17,
   "metadata": {},
   "outputs": [],
   "source": [
    "from numpy import *\n",
    "from matplotlib.pyplot import *\n",
    "from pyaudio import *\n",
    "\n",
    "fs = 4096\n",
    "\n",
    "# Áudio de 2 segundos\n",
    "tmax = round(2*fs)\n",
    "n = arange(0, tmax+1)\n",
    "\n",
    "f0 = 440;\n",
    "x1 = cos(2*pi*f0/fs*n, dtype=float32)\n",
    "\n",
    "p = PyAudio()\n",
    "stream = p.open(format=paFloat32, channels=1, rate=fs, output=True)\n",
    "\n",
    "# play\n",
    "stream.write(x1, num_frames=size(x1))\n",
    "\n",
    "stream.stop_stream()\n",
    "stream.close()\n",
    "p.terminate()"
   ]
  }
 ],
 "metadata": {
  "kernelspec": {
   "display_name": "Python 3",
   "language": "python",
   "name": "python3"
  },
  "language_info": {
   "codemirror_mode": {
    "name": "ipython",
    "version": 3
   },
   "file_extension": ".py",
   "mimetype": "text/x-python",
   "name": "python",
   "nbconvert_exporter": "python",
   "pygments_lexer": "ipython3",
   "version": "3.6.5"
  }
 },
 "nbformat": 4,
 "nbformat_minor": 2
}
